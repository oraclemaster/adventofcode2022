{
 "cells": [
  {
   "cell_type": "markdown",
   "metadata": {},
   "source": []
  },
  {
   "cell_type": "code",
   "execution_count": 25,
   "metadata": {},
   "outputs": [
    {
     "name": "stdout",
     "output_type": "stream",
     "text": [
      "answer1  14220\n"
     ]
    }
   ],
   "source": [
    "in_file= open(\"input10.txt\").read().strip().split(\"\\n\") # prod\n",
    "\n",
    "regx = 1\n",
    "value = cycle = strenght = row = 0\n",
    "half = False\n",
    "\n",
    "while row< len(in_file):\n",
    "    cycle += 1\n",
    "    if cycle ==20 or cycle == 60 or cycle == 100 or cycle == 140 or cycle == 180 or cycle ==220:\n",
    "        strenght = strenght + (cycle*regx)\n",
    "    line = in_file[row]\n",
    "    if line[0] == \"n\":\n",
    "        row +=1 \n",
    "    else:\n",
    "        command, value = line.split()\n",
    "        if half == True:\n",
    "            regx = regx + int(value)\n",
    "            half = False\n",
    "            row+= 1\n",
    "        else:\n",
    "            half = True\n",
    "\n",
    "print(\"answer1 \", strenght)"
   ]
  }
 ],
 "metadata": {
  "kernelspec": {
   "display_name": "Python 3.10.6 64-bit",
   "language": "python",
   "name": "python3"
  },
  "language_info": {
   "codemirror_mode": {
    "name": "ipython",
    "version": 3
   },
   "file_extension": ".py",
   "mimetype": "text/x-python",
   "name": "python",
   "nbconvert_exporter": "python",
   "pygments_lexer": "ipython3",
   "version": "3.10.6"
  },
  "orig_nbformat": 4,
  "vscode": {
   "interpreter": {
    "hash": "916dbcbb3f70747c44a77c7bcd40155683ae19c65e1c03b4aa3499c5328201f1"
   }
  }
 },
 "nbformat": 4,
 "nbformat_minor": 2
}
