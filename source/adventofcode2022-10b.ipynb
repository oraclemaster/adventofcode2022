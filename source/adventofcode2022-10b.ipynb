{
 "cells": [
  {
   "cell_type": "markdown",
   "metadata": {},
   "source": []
  },
  {
   "cell_type": "code",
   "execution_count": 6,
   "metadata": {},
   "outputs": [
    {
     "name": "stdout",
     "output_type": "stream",
     "text": [
      "[][][][]  [][][]      [][]    [][][]    []        [][][][]  [][][][]  []    []  \n",
      "      []  []    []  []    []  []    []  []        []              []  []    []  \n",
      "    []    []    []  []    []  []    []  []        [][][]        []    []    []  \n",
      "  []      [][][]    [][][][]  [][][]    []        []          []      []    []  \n",
      "[]        []  []    []    []  []  []    []        []        []        []    []  \n",
      "[][][][]  []    []  []    []  []    []  [][][][]  []        [][][][]    [][]    \n",
      "\n"
     ]
    }
   ],
   "source": [
    "in_file= open(\"input10.txt\").read().strip().split(\"\\n\")\n",
    "\n",
    "regx = 1\n",
    "value = cycle = row = 0\n",
    "half = False\n",
    "crt= ''\n",
    "\n",
    "while row < len(in_file):\n",
    "    cycle += 1\n",
    "\n",
    "    if ((cycle-1) % 40) in [regx-1, regx, regx+1]:\n",
    "        crt+= '[]'\n",
    "    else:\n",
    "        crt += '  '\n",
    "    if (cycle % 40) == 0:\n",
    "        crt += '\\n'\n",
    "    \n",
    "    line = in_file[row]\n",
    "    if line[0] == \"n\":\n",
    "        row +=1 \n",
    "    else:\n",
    "        command, value = line.split()\n",
    "        if half == True:\n",
    "            regx = regx + int(value)\n",
    "            half = False\n",
    "            row+= 1\n",
    "        else:\n",
    "            half = True\n",
    "\n",
    "print(crt)"
   ]
  }
 ],
 "metadata": {
  "kernelspec": {
   "display_name": "Python 3.10.6 64-bit",
   "language": "python",
   "name": "python3"
  },
  "language_info": {
   "codemirror_mode": {
    "name": "ipython",
    "version": 3
   },
   "file_extension": ".py",
   "mimetype": "text/x-python",
   "name": "python",
   "nbconvert_exporter": "python",
   "pygments_lexer": "ipython3",
   "version": "3.10.6"
  },
  "orig_nbformat": 4,
  "vscode": {
   "interpreter": {
    "hash": "916dbcbb3f70747c44a77c7bcd40155683ae19c65e1c03b4aa3499c5328201f1"
   }
  }
 },
 "nbformat": 4,
 "nbformat_minor": 2
}
